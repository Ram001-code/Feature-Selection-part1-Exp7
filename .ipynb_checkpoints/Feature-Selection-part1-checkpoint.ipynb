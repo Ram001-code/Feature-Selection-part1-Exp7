{
 "cells": [
  {
   "cell_type": "markdown",
   "id": "bb145d85-7e36-4144-8a8b-927a6ec24d50",
   "metadata": {},
   "source": [
    "# Importing the Libraries"
   ]
  },
  {
   "cell_type": "code",
   "execution_count": 1,
   "id": "fa968d3d-08b7-4940-809b-80c05388bcac",
   "metadata": {},
   "outputs": [],
   "source": [
    "import pandas as pd\n",
    "import matplotlib.pyplot as plt"
   ]
  },
  {
   "cell_type": "markdown",
   "id": "8bcfdac6-4fbe-42ff-85ad-359e8e124b72",
   "metadata": {},
   "source": [
    "# Loading the dataset"
   ]
  },
  {
   "cell_type": "code",
   "execution_count": 2,
   "id": "5fe56eca-1cbb-435e-94f2-21364bb075fe",
   "metadata": {},
   "outputs": [],
   "source": [
    "file_path = '.\\dataset\\WHR2023.csv'\n",
    "df = pd.read_csv(file_path)"
   ]
  },
  {
   "cell_type": "markdown",
   "id": "518d106b-72b4-45ea-bc44-399edfa30574",
   "metadata": {},
   "source": [
    "# Encoding categorical variables"
   ]
  },
  {
   "cell_type": "code",
   "execution_count": 3,
   "id": "42c66296-7b36-4336-aaed-4dd04c1dbc8b",
   "metadata": {},
   "outputs": [],
   "source": [
    "df_encoded = pd.get_dummies(df, drop_first=True)"
   ]
  },
  {
   "cell_type": "markdown",
   "id": "810057ed-2b54-4592-997b-d8d44c6d5c5d",
   "metadata": {},
   "source": [
    "# Define features and target"
   ]
  },
  {
   "cell_type": "code",
   "execution_count": 4,
   "id": "b0bbcc69-f62c-498a-a9ad-f16187741ac7",
   "metadata": {},
   "outputs": [],
   "source": [
    "X = df_encoded.drop('Healthy life expectancy', axis=1)\n",
    "y = df_encoded['Healthy life expectancy']"
   ]
  },
  {
   "cell_type": "markdown",
   "id": "ef88eefa-26f3-4fe2-95c1-75016a36927f",
   "metadata": {},
   "source": [
    "# Apply SelectKBest with Chi-Squared"
   ]
  },
  {
   "cell_type": "code",
   "execution_count": 5,
   "id": "60937013-15fa-4c69-9833-f1c1d2793e33",
   "metadata": {},
   "outputs": [],
   "source": [
    "from sklearn.feature_selection import SelectKBest, chi2\n",
    "selector = SelectKBest(chi2, k=5)\n",
    "X_new = selector.fit_transform(X, y)"
   ]
  },
  {
   "cell_type": "code",
   "execution_count": 6,
   "id": "54d4e3c4-cb49-4f81-91d8-38e278bceac5",
   "metadata": {},
   "outputs": [],
   "source": [
    "selected_features = X.columns[selector.get_support()]\n",
    "print(\"Top 5 selected features using Chi-Squared test:\", selected_features)"
   ]
  }
 ],
 "metadata": {
  "kernelspec": {
   "display_name": "Python 3 (ipykernel)",
   "language": "python",
   "name": "python3"
  },
  "language_info": {
   "codemirror_mode": {
    "name": "ipython",
    "version": 3
   },
   "file_extension": ".py",
   "mimetype": "text/x-python",
   "name": "python",
   "nbconvert_exporter": "python",
   "pygments_lexer": "ipython3",
   "version": "3.11.4"
  }
 },
 "nbformat": 4,
 "nbformat_minor": 5
}
